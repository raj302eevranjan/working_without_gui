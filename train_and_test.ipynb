{
  "nbformat": 4,
  "nbformat_minor": 0,
  "metadata": {
    "colab": {
      "name": "train-and-test.ipynb",
      "version": "0.3.2",
      "provenance": [],
      "collapsed_sections": []
    },
    "kernelspec": {
      "name": "python2",
      "display_name": "Python 2"
    },
    "accelerator": "GPU"
  },
  "cells": [
    {
      "cell_type": "markdown",
      "metadata": {
        "id": "view-in-github",
        "colab_type": "text"
      },
      "source": [
        "[View in Colaboratory](https://colab.research.google.com/github/manja-m/mam_cnn/blob/master/train_and_test.ipynb)"
      ]
    },
    {
      "metadata": {
        "id": "4Qco-3Q7XhbI",
        "colab_type": "code",
        "colab": {
          "base_uri": "https://localhost:8080/",
          "height": 139
        },
        "outputId": "fe843714-b164-4736-ff10-502366d17c46"
      },
      "cell_type": "code",
      "source": [
        "!git clone https://github.com/manja-m/mam_cnn.git\n",
        "  "
      ],
      "execution_count": 1,
      "outputs": [
        {
          "output_type": "stream",
          "text": [
            "Cloning into 'mam_cnn'...\n",
            "remote: Counting objects: 1350, done.\u001b[K\n",
            "remote: Compressing objects: 100% (1319/1319), done.\u001b[K\n",
            "remote: Total 1350 (delta 41), reused 1337 (delta 30), pack-reused 0\u001b[K\n",
            "Receiving objects: 100% (1350/1350), 342.37 MiB | 25.06 MiB/s, done.\n",
            "Resolving deltas: 100% (41/41), done.\n",
            "Checking out files: 100% (1294/1294), done.\n"
          ],
          "name": "stdout"
        }
      ]
    },
    {
      "metadata": {
        "id": "o75yl4J-X6--",
        "colab_type": "code",
        "colab": {
          "base_uri": "https://localhost:8080/",
          "height": 34
        },
        "outputId": "6b4124f8-f37f-4d53-f3c5-faa11e0167f7"
      },
      "cell_type": "code",
      "source": [
        "cd mam_cnn"
      ],
      "execution_count": 2,
      "outputs": [
        {
          "output_type": "stream",
          "text": [
            "/content/mam_cnn\n"
          ],
          "name": "stdout"
        }
      ]
    },
    {
      "metadata": {
        "id": "u8y47iZabAeO",
        "colab_type": "code",
        "colab": {}
      },
      "cell_type": "code",
      "source": [
        ""
      ],
      "execution_count": 0,
      "outputs": []
    },
    {
      "metadata": {
        "id": "v2UHsCv5YQAe",
        "colab_type": "code",
        "colab": {
          "base_uri": "https://localhost:8080/",
          "height": 4014
        },
        "outputId": "c5aafd56-fdb6-4baf-911a-693458b027e4"
      },
      "cell_type": "code",
      "source": [
        "!python cnn_keras.py"
      ],
      "execution_count": 3,
      "outputs": [
        {
          "output_type": "stream",
          "text": [
            "/usr/local/lib/python2.7/dist-packages/h5py/__init__.py:36: FutureWarning: Conversion of the second argument of issubdtype from `float` to `np.floating` is deprecated. In future, it will be treated as `np.float64 == np.dtype(float).type`.\r\n",
            "  from ._conv import register_converters as _register_converters\n",
            "Using TensorFlow backend.\n",
            "Done Building Model...\n",
            "Done Compiling Model...\n",
            "Training...\n",
            "Train on 923 samples, validate on 924 samples\n",
            "Epoch 1/50\n",
            "2018-04-30 10:45:21.256085: I tensorflow/stream_executor/cuda/cuda_gpu_executor.cc:898] successful NUMA node read from SysFS had negative value (-1), but there must be at least one NUMA node, so returning NUMA node zero\n",
            "2018-04-30 10:45:21.256630: I tensorflow/core/common_runtime/gpu/gpu_device.cc:1344] Found device 0 with properties: \n",
            "name: Tesla K80 major: 3 minor: 7 memoryClockRate(GHz): 0.8235\n",
            "pciBusID: 0000:00:04.0\n",
            "totalMemory: 11.17GiB freeMemory: 11.10GiB\n",
            "2018-04-30 10:45:21.256674: I tensorflow/core/common_runtime/gpu/gpu_device.cc:1423] Adding visible gpu devices: 0\n",
            "2018-04-30 10:45:21.540181: I tensorflow/core/common_runtime/gpu/gpu_device.cc:911] Device interconnect StreamExecutor with strength 1 edge matrix:\n",
            "2018-04-30 10:45:21.540234: I tensorflow/core/common_runtime/gpu/gpu_device.cc:917]      0 \n",
            "2018-04-30 10:45:21.540260: I tensorflow/core/common_runtime/gpu/gpu_device.cc:930] 0:   N \n",
            "2018-04-30 10:45:21.540554: I tensorflow/core/common_runtime/gpu/gpu_device.cc:1041] Created TensorFlow device (/job:localhost/replica:0/task:0/device:GPU:0 with 10765 MB memory) -> physical GPU (device: 0, name: Tesla K80, pci bus id: 0000:00:04.0, compute capability: 3.7)\n",
            "923/923 [==============================] - 4s 4ms/step - loss: 1.0526 - acc: 0.5569 - val_loss: 0.9537 - val_acc: 0.6374\n",
            "\n",
            "Epoch 00001: val_loss improved from inf to 0.95372, saving model to weights123.hdf5\n",
            "Epoch 2/50\n",
            "923/923 [==============================] - 2s 2ms/step - loss: 0.9431 - acc: 0.6241 - val_loss: 0.9150 - val_acc: 0.6374\n",
            "\n",
            "Epoch 00002: val_loss improved from 0.95372 to 0.91498, saving model to weights123.hdf5\n",
            "Epoch 3/50\n",
            "864/923 [===========================>..] - ETA: 0s - loss: 0.9299 - acc: 0.6273"
          ],
          "name": "stdout"
        },
        {
          "output_type": "stream",
          "text": [
            "\b\b\b\b\b\b\b\b\b\b\b\b\b\b\b\b\b\b\b\b\b\b\b\b\b\b\b\b\b\b\b\b\b\b\b\b\b\b\b\b\b\b\b\b\b\b\b\b\b\b\b\b\b\b\b\b\b\b\b\b\b\b\b\b\b\b\b\b\b\b\b\b\b\b\b\b\b\b\b\r923/923 [==============================] - 2s 2ms/step - loss: 0.9343 - acc: 0.6241 - val_loss: 0.9633 - val_acc: 0.6374\r\n",
            "\r\n",
            "Epoch 00003: val_loss did not improve from 0.91498\r\n",
            "Epoch 4/50\n",
            "923/923 [==============================] - 2s 2ms/step - loss: 0.9339 - acc: 0.6241 - val_loss: 0.9254 - val_acc: 0.6374\n",
            "\n",
            "Epoch 00004: val_loss did not improve from 0.91498\n",
            "Epoch 5/50\n",
            "923/923 [==============================] - 2s 2ms/step - loss: 0.9281 - acc: 0.6241 - val_loss: 0.9095 - val_acc: 0.6374\n",
            "\n",
            "Epoch 00005: val_loss improved from 0.91498 to 0.90951, saving model to weights123.hdf5\n",
            "Epoch 6/50\n",
            "923/923 [==============================] - 2s 2ms/step - loss: 0.9283 - acc: 0.6241 - val_loss: 0.9155 - val_acc: 0.6374\n",
            "\n",
            "Epoch 00006: val_loss did not improve from 0.90951\n",
            "Epoch 7/50\n",
            "923/923 [==============================] - 2s 2ms/step - loss: 0.9316 - acc: 0.6241 - val_loss: 0.9154 - val_acc: 0.6374\n",
            "\n",
            "Epoch 00007: val_loss did not improve from 0.90951\n",
            "Epoch 8/50\n",
            "923/923 [==============================] - 2s 2ms/step - loss: 0.9255 - acc: 0.6241 - val_loss: 0.9017 - val_acc: 0.6374\n",
            "\n",
            "Epoch 00008: val_loss improved from 0.90951 to 0.90170, saving model to weights123.hdf5\n",
            "Epoch 9/50\n",
            "923/923 [==============================] - 2s 2ms/step - loss: 0.9170 - acc: 0.6241 - val_loss: 0.9409 - val_acc: 0.6374\n",
            "\n",
            "Epoch 00009: val_loss did not improve from 0.90170\n",
            "Epoch 10/50\n",
            "832/923 [==========================>...] - ETA: 0s - loss: 0.9105 - acc: 0.6274"
          ],
          "name": "stdout"
        },
        {
          "output_type": "stream",
          "text": [
            "923/923 [==============================] - 2s 2ms/step - loss: 0.9125 - acc: 0.6241 - val_loss: 0.9121 - val_acc: 0.6374\n",
            "\n",
            "Epoch 00010: val_loss did not improve from 0.90170\n",
            "Epoch 11/50\n",
            "923/923 [==============================] - 2s 2ms/step - loss: 0.9119 - acc: 0.6251 - val_loss: 0.9071 - val_acc: 0.6385\n",
            "\n",
            "Epoch 00011: val_loss did not improve from 0.90170\n",
            "Epoch 12/50\n",
            "923/923 [==============================] - 2s 2ms/step - loss: 0.8957 - acc: 0.6241 - val_loss: 0.9086 - val_acc: 0.6385\n",
            "\n",
            "Epoch 00012: val_loss did not improve from 0.90170\n",
            "Epoch 13/50\n",
            "923/923 [==============================] - 2s 2ms/step - loss: 0.9043 - acc: 0.6241 - val_loss: 0.9134 - val_acc: 0.6385\n",
            "\n",
            "Epoch 00013: val_loss did not improve from 0.90170\n",
            "Epoch 14/50\n",
            "923/923 [==============================] - 2s 2ms/step - loss: 0.8828 - acc: 0.6273 - val_loss: 0.9127 - val_acc: 0.6374\n",
            "\n",
            "Epoch 00014: val_loss did not improve from 0.90170\n",
            "Epoch 15/50\n",
            "923/923 [==============================] - 2s 2ms/step - loss: 0.8798 - acc: 0.6230 - val_loss: 0.9049 - val_acc: 0.6396\n",
            "\n",
            "Epoch 00015: val_loss did not improve from 0.90170\n",
            "Epoch 16/50\n",
            "923/923 [==============================] - 2s 2ms/step - loss: 0.8565 - acc: 0.6251 - val_loss: 0.8747 - val_acc: 0.6385\n",
            "\n",
            "Epoch 00016: val_loss improved from 0.90170 to 0.87473, saving model to weights123.hdf5\n",
            "Epoch 17/50\n",
            "923/923 [==============================] - 2s 2ms/step - loss: 0.8497 - acc: 0.6316 - val_loss: 0.9294 - val_acc: 0.6634\n",
            "\n",
            "Epoch 00017: val_loss did not improve from 0.87473\n",
            "Epoch 18/50\n",
            "352/923 [==========>...................] - ETA: 0s - loss: 0.8296 - acc: 0.6307"
          ],
          "name": "stdout"
        },
        {
          "output_type": "stream",
          "text": [
            "923/923 [==============================] - 2s 2ms/step - loss: 0.8287 - acc: 0.6338 - val_loss: 0.8490 - val_acc: 0.6515\n",
            "\n",
            "Epoch 00018: val_loss improved from 0.87473 to 0.84902, saving model to weights123.hdf5\n",
            "Epoch 19/50\n",
            "923/923 [==============================] - 2s 2ms/step - loss: 0.7978 - acc: 0.6414 - val_loss: 0.8227 - val_acc: 0.6537\n",
            "\n",
            "Epoch 00019: val_loss improved from 0.84902 to 0.82270, saving model to weights123.hdf5\n",
            "Epoch 20/50\n",
            "923/923 [==============================] - 2s 2ms/step - loss: 0.7671 - acc: 0.6739 - val_loss: 0.7735 - val_acc: 0.6786\n",
            "\n",
            "Epoch 00020: val_loss improved from 0.82270 to 0.77347, saving model to weights123.hdf5\n",
            "Epoch 21/50\n",
            "923/923 [==============================] - 2s 2ms/step - loss: 0.6985 - acc: 0.6901 - val_loss: 0.7584 - val_acc: 0.7002\n",
            "\n",
            "Epoch 00021: val_loss improved from 0.77347 to 0.75836, saving model to weights123.hdf5\n",
            "Epoch 22/50\n",
            "923/923 [==============================] - 2s 2ms/step - loss: 0.6410 - acc: 0.7313 - val_loss: 0.7214 - val_acc: 0.7327\n",
            "\n",
            "Epoch 00022: val_loss improved from 0.75836 to 0.72139, saving model to weights123.hdf5\n",
            "Epoch 23/50\n",
            "923/923 [==============================] - 2s 2ms/step - loss: 0.5705 - acc: 0.7692 - val_loss: 0.7081 - val_acc: 0.7305\n",
            "\n",
            "Epoch 00023: val_loss improved from 0.72139 to 0.70814, saving model to weights123.hdf5\n",
            "Epoch 24/50\n",
            "923/923 [==============================] - 2s 2ms/step - loss: 0.5081 - acc: 0.7996 - val_loss: 0.7781 - val_acc: 0.6742\n",
            "\n",
            "Epoch 00024: val_loss did not improve from 0.70814\n",
            "Epoch 25/50\n",
            "608/923 [==================>...........] - ETA: 0s - loss: 0.5693 - acc: 0.7747"
          ],
          "name": "stdout"
        },
        {
          "output_type": "stream",
          "text": [
            "923/923 [==============================] - 2s 2ms/step - loss: 0.5043 - acc: 0.8115 - val_loss: 0.6307 - val_acc: 0.7835\n",
            "\n",
            "Epoch 00025: val_loss improved from 0.70814 to 0.63072, saving model to weights123.hdf5\n",
            "Epoch 26/50\n",
            "923/923 [==============================] - 2s 2ms/step - loss: 0.3653 - acc: 0.8732 - val_loss: 0.6258 - val_acc: 0.7976\n",
            "\n",
            "Epoch 00026: val_loss improved from 0.63072 to 0.62577, saving model to weights123.hdf5\n",
            "Epoch 27/50\n",
            "923/923 [==============================] - 2s 2ms/step - loss: 0.2763 - acc: 0.9003 - val_loss: 0.6539 - val_acc: 0.7630\n",
            "\n",
            "Epoch 00027: val_loss did not improve from 0.62577\n",
            "Epoch 28/50\n",
            "923/923 [==============================] - 2s 2ms/step - loss: 0.2253 - acc: 0.9372 - val_loss: 0.6276 - val_acc: 0.8225\n",
            "\n",
            "Epoch 00028: val_loss did not improve from 0.62577\n",
            "Epoch 29/50\n",
            "923/923 [==============================] - 2s 2ms/step - loss: 0.1791 - acc: 0.9523 - val_loss: 0.5974 - val_acc: 0.8149\n",
            "\n",
            "Epoch 00029: val_loss improved from 0.62577 to 0.59738, saving model to weights123.hdf5\n",
            "Epoch 30/50\n",
            "923/923 [==============================] - 2s 2ms/step - loss: 0.1167 - acc: 0.9729 - val_loss: 0.6673 - val_acc: 0.8268\n",
            "\n",
            "Epoch 00030: val_loss did not improve from 0.59738\n",
            "Epoch 31/50\n",
            "923/923 [==============================] - 2s 2ms/step - loss: 0.0943 - acc: 0.9837 - val_loss: 0.6079 - val_acc: 0.8117\n",
            "\n",
            "Epoch 00031: val_loss did not improve from 0.59738\n",
            "Epoch 32/50\n",
            "923/923 [==============================] - 2s 2ms/step - loss: 0.0513 - acc: 0.9946 - val_loss: 0.6610 - val_acc: 0.8030\n",
            "\n",
            "Epoch 00032: val_loss did not improve from 0.59738\n",
            "Epoch 33/50\n"
          ],
          "name": "stdout"
        },
        {
          "output_type": "stream",
          "text": [
            "923/923 [==============================] - 2s 2ms/step - loss: 0.0411 - acc: 0.9957 - val_loss: 0.7188 - val_acc: 0.7825\n",
            "\n",
            "Epoch 00033: val_loss did not improve from 0.59738\n",
            "Epoch 34/50\n",
            "923/923 [==============================] - 2s 2ms/step - loss: 0.0416 - acc: 0.9957 - val_loss: 0.7065 - val_acc: 0.8171\n",
            "\n",
            "Epoch 00034: val_loss did not improve from 0.59738\n",
            "Epoch 35/50\n",
            "923/923 [==============================] - 2s 2ms/step - loss: 0.0374 - acc: 0.9946 - val_loss: 0.7271 - val_acc: 0.8258\n",
            "\n",
            "Epoch 00035: val_loss did not improve from 0.59738\n",
            "Epoch 36/50\n",
            "923/923 [==============================] - 2s 2ms/step - loss: 0.0245 - acc: 0.9967 - val_loss: 0.7661 - val_acc: 0.8193\n",
            "\n",
            "Epoch 00036: val_loss did not improve from 0.59738\n",
            "Epoch 37/50\n",
            "923/923 [==============================] - 2s 2ms/step - loss: 0.0302 - acc: 0.9946 - val_loss: 0.6877 - val_acc: 0.8117\n",
            "\n",
            "Epoch 00037: val_loss did not improve from 0.59738\n",
            "Epoch 38/50\n",
            "923/923 [==============================] - 2s 2ms/step - loss: 0.0131 - acc: 1.0000 - val_loss: 0.8402 - val_acc: 0.8203\n",
            "\n",
            "Epoch 00038: val_loss did not improve from 0.59738\n",
            "Epoch 39/50\n",
            "923/923 [==============================] - 2s 2ms/step - loss: 0.0185 - acc: 0.9978 - val_loss: 0.8050 - val_acc: 0.8171\n",
            "\n",
            "Epoch 00039: val_loss did not improve from 0.59738\n",
            "Epoch 40/50\n",
            "923/923 [==============================] - 2s 2ms/step - loss: 0.0091 - acc: 0.9989 - val_loss: 0.8529 - val_acc: 0.8193\n",
            "\n",
            "Epoch 00040: val_loss did not improve from 0.59738\n",
            "Epoch 41/50\n",
            "544/923 [================>.............] - ETA: 0s - loss: 0.0082 - acc: 0.9982"
          ],
          "name": "stdout"
        },
        {
          "output_type": "stream",
          "text": [
            "923/923 [==============================] - 2s 2ms/step - loss: 0.0120 - acc: 0.9978 - val_loss: 0.8664 - val_acc: 0.8182\n",
            "\n",
            "Epoch 00041: val_loss did not improve from 0.59738\n",
            "Epoch 42/50\n",
            "923/923 [==============================] - 2s 2ms/step - loss: 0.0128 - acc: 0.9978 - val_loss: 0.8491 - val_acc: 0.8193\n",
            "\n",
            "Epoch 00042: val_loss did not improve from 0.59738\n",
            "Epoch 43/50\n",
            "923/923 [==============================] - 2s 2ms/step - loss: 0.0106 - acc: 0.9978 - val_loss: 0.9702 - val_acc: 0.8409\n",
            "\n",
            "Epoch 00043: val_loss did not improve from 0.59738\n",
            "Epoch 44/50\n",
            "923/923 [==============================] - 2s 2ms/step - loss: 0.0111 - acc: 0.9978 - val_loss: 0.8428 - val_acc: 0.8139\n",
            "\n",
            "Epoch 00044: val_loss did not improve from 0.59738\n",
            "Epoch 45/50\n",
            "923/923 [==============================] - 2s 2ms/step - loss: 0.0096 - acc: 0.9978 - val_loss: 0.8386 - val_acc: 0.8149\n",
            "\n",
            "Epoch 00045: val_loss did not improve from 0.59738\n",
            "Epoch 46/50\n",
            "923/923 [==============================] - 2s 2ms/step - loss: 0.0087 - acc: 0.9978 - val_loss: 0.8693 - val_acc: 0.8160\n",
            "\n",
            "Epoch 00046: val_loss did not improve from 0.59738\n",
            "Epoch 47/50\n",
            "923/923 [==============================] - 2s 2ms/step - loss: 0.0066 - acc: 0.9989 - val_loss: 0.9074 - val_acc: 0.8117\n",
            "\n",
            "Epoch 00047: val_loss did not improve from 0.59738\n",
            "Epoch 48/50\n",
            "923/923 [==============================] - 2s 2ms/step - loss: 0.0063 - acc: 0.9989 - val_loss: 0.8532 - val_acc: 0.8019\n",
            "\n",
            "Epoch 00048: val_loss did not improve from 0.59738\n",
            "Epoch 49/50\n",
            "480/923 [==============>...............] - ETA: 0s - loss: 0.0026 - acc: 1.0000"
          ],
          "name": "stdout"
        },
        {
          "output_type": "stream",
          "text": [
            "923/923 [==============================] - 2s 2ms/step - loss: 0.0046 - acc: 0.9989 - val_loss: 0.9114 - val_acc: 0.8247\n",
            "\n",
            "Epoch 00049: val_loss did not improve from 0.59738\n",
            "Epoch 50/50\n",
            "923/923 [==============================] - 2s 2ms/step - loss: 0.0090 - acc: 0.9957 - val_loss: 0.9124 - val_acc: 0.8203\n",
            "\n",
            "Epoch 00050: val_loss did not improve from 0.59738\n",
            "Training Completed\n",
            "Testing with train data:\n",
            "923/923 [==============================] - 0s 468us/step\n",
            "Testing with test data:\n",
            "924/924 [==============================] - 0s 466us/step\n",
            "\n",
            "Time Took for training and testing: 0:01:30.113402\n",
            "Test Loss: 0.91242868109\n",
            "Test Accuracy: 0.820346320604\n",
            "\n",
            "Train Loss: 0.00375606958227\n",
            "Train Accuracy: 0.998916576381\n"
          ],
          "name": "stdout"
        }
      ]
    },
    {
      "metadata": {
        "id": "LGImSrDk_gzA",
        "colab_type": "code",
        "colab": {}
      },
      "cell_type": "code",
      "source": [
        ""
      ],
      "execution_count": 0,
      "outputs": []
    }
  ]
}