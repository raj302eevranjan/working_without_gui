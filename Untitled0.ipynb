{
  "nbformat": 4,
  "nbformat_minor": 0,
  "metadata": {
    "colab": {
      "name": "Untitled0.ipynb",
      "version": "0.3.2",
      "provenance": [],
      "toc_visible": true
    },
    "kernelspec": {
      "name": "python2",
      "display_name": "Python 2"
    },
    "accelerator": "GPU"
  },
  "cells": [
    {
      "cell_type": "markdown",
      "metadata": {
        "id": "view-in-github",
        "colab_type": "text"
      },
      "source": [
        "[View in Colaboratory](https://colab.research.google.com/github/manja-m/mam_cnn/blob/master/Untitled0.ipynb)"
      ]
    },
    {
      "metadata": {
        "id": "4Qco-3Q7XhbI",
        "colab_type": "code",
        "colab": {
          "base_uri": "https://localhost:8080/",
          "height": 139
        },
        "outputId": "0bbe2e4c-d74c-494b-e2ff-92b4d6ed4bf6"
      },
      "cell_type": "code",
      "source": [
        "!git clone https://github.com/manja-m/mam_cnn.git\n",
        "  "
      ],
      "execution_count": 2,
      "outputs": [
        {
          "output_type": "stream",
          "text": [
            "Cloning into 'mam_cnn'...\n",
            "remote: Counting objects: 1331, done.\u001b[K\n",
            "remote: Compressing objects: 100% (1307/1307), done.\u001b[K\n",
            "remote: Total 1331 (delta 29), reused 1325 (delta 23), pack-reused 0\u001b[K\n",
            "Receiving objects: 100% (1331/1331), 342.36 MiB | 26.74 MiB/s, done.\n",
            "Resolving deltas: 100% (29/29), done.\n",
            "Checking out files: 100% (1295/1295), done.\n"
          ],
          "name": "stdout"
        }
      ]
    },
    {
      "metadata": {
        "id": "o75yl4J-X6--",
        "colab_type": "code",
        "colab": {
          "base_uri": "https://localhost:8080/",
          "height": 34
        },
        "outputId": "229d389d-4a73-405c-9da2-0396d98aa2a3"
      },
      "cell_type": "code",
      "source": [
        "cd mam_cnn"
      ],
      "execution_count": 3,
      "outputs": [
        {
          "output_type": "stream",
          "text": [
            "/content/mam_cnn\n"
          ],
          "name": "stdout"
        }
      ]
    },
    {
      "metadata": {
        "id": "u8y47iZabAeO",
        "colab_type": "code",
        "colab": {}
      },
      "cell_type": "code",
      "source": [
        ""
      ],
      "execution_count": 0,
      "outputs": []
    },
    {
      "metadata": {
        "id": "v2UHsCv5YQAe",
        "colab_type": "code",
        "colab": {
          "base_uri": "https://localhost:8080/",
          "height": 3979
        },
        "outputId": "6053e135-a2ae-40bf-adb8-b58b49ab0dbd"
      },
      "cell_type": "code",
      "source": [
        "!python cnn_keras.py"
      ],
      "execution_count": 4,
      "outputs": [
        {
          "output_type": "stream",
          "text": [
            "/usr/local/lib/python2.7/dist-packages/h5py/__init__.py:36: FutureWarning: Conversion of the second argument of issubdtype from `float` to `np.floating` is deprecated. In future, it will be treated as `np.float64 == np.dtype(float).type`.\r\n",
            "  from ._conv import register_converters as _register_converters\n",
            "Using TensorFlow backend.\n",
            "Done Building Model...\n",
            "Done Compiling Model...\n",
            "Training...\n",
            "Train on 923 samples, validate on 924 samples\n",
            "Epoch 1/50\n",
            "2018-04-30 09:59:25.613595: I tensorflow/stream_executor/cuda/cuda_gpu_executor.cc:898] successful NUMA node read from SysFS had negative value (-1), but there must be at least one NUMA node, so returning NUMA node zero\n",
            "2018-04-30 09:59:25.614002: I tensorflow/core/common_runtime/gpu/gpu_device.cc:1344] Found device 0 with properties: \n",
            "name: Tesla K80 major: 3 minor: 7 memoryClockRate(GHz): 0.8235\n",
            "pciBusID: 0000:00:04.0\n",
            "totalMemory: 11.17GiB freeMemory: 11.10GiB\n",
            "2018-04-30 09:59:25.614038: I tensorflow/core/common_runtime/gpu/gpu_device.cc:1423] Adding visible gpu devices: 0\n",
            "2018-04-30 09:59:25.943667: I tensorflow/core/common_runtime/gpu/gpu_device.cc:911] Device interconnect StreamExecutor with strength 1 edge matrix:\n",
            "2018-04-30 09:59:25.943729: I tensorflow/core/common_runtime/gpu/gpu_device.cc:917]      0 \n",
            "2018-04-30 09:59:25.943754: I tensorflow/core/common_runtime/gpu/gpu_device.cc:930] 0:   N \n",
            "2018-04-30 09:59:25.944057: I tensorflow/core/common_runtime/gpu/gpu_device.cc:1041] Created TensorFlow device (/job:localhost/replica:0/task:0/device:GPU:0 with 10765 MB memory) -> physical GPU (device: 0, name: Tesla K80, pci bus id: 0000:00:04.0, compute capability: 3.7)\n",
            "923/923 [==============================] - 2s 3ms/step - loss: 0.9559 - acc: 0.6241 - val_loss: 0.9735 - val_acc: 0.6126\n",
            "\n",
            "Epoch 00001: val_loss improved from inf to 0.97348, saving model to weights.hdf5\n",
            "Epoch 2/50\n",
            "923/923 [==============================] - 0s 527us/step - loss: 0.9295 - acc: 0.6262 - val_loss: 0.9447 - val_acc: 0.6126\n",
            "\n",
            "Epoch 00002: val_loss improved from 0.97348 to 0.94470, saving model to weights.hdf5\n",
            "Epoch 3/50\n",
            "923/923 [==============================] - 1s 557us/step - loss: 0.9313 - acc: 0.6262 - val_loss: 0.9462 - val_acc: 0.6126\n",
            "\n",
            "Epoch 00003: val_loss did not improve from 0.94470\n",
            "Epoch 4/50\n",
            "923/923 [==============================] - 0s 536us/step - loss: 0.9234 - acc: 0.6262 - val_loss: 0.9518 - val_acc: 0.6126\n",
            "\n",
            "Epoch 00004: val_loss did not improve from 0.94470\n",
            "Epoch 5/50\n",
            "923/923 [==============================] - 0s 528us/step - loss: 0.9231 - acc: 0.6262 - val_loss: 0.9339 - val_acc: 0.6126\n",
            "\n",
            "Epoch 00005: val_loss improved from 0.94470 to 0.93390, saving model to weights.hdf5\n",
            "Epoch 6/50\n",
            "672/923 [====================>.........] - ETA: 0s - loss: 0.9355 - acc: 0.6131"
          ],
          "name": "stdout"
        },
        {
          "output_type": "stream",
          "text": [
            "923/923 [==============================] - 1s 543us/step - loss: 0.9188 - acc: 0.6262 - val_loss: 0.9320 - val_acc: 0.6126\n",
            "\n",
            "Epoch 00006: val_loss improved from 0.93390 to 0.93196, saving model to weights.hdf5\n",
            "Epoch 7/50\n",
            "923/923 [==============================] - 1s 543us/step - loss: 0.9143 - acc: 0.6262 - val_loss: 0.9302 - val_acc: 0.6126\n",
            "\n",
            "Epoch 00007: val_loss improved from 0.93196 to 0.93017, saving model to weights.hdf5\n",
            "Epoch 8/50\n",
            "923/923 [==============================] - 1s 551us/step - loss: 0.8959 - acc: 0.6284 - val_loss: 0.9227 - val_acc: 0.6126\n",
            "\n",
            "Epoch 00008: val_loss improved from 0.93017 to 0.92268, saving model to weights.hdf5\n",
            "Epoch 9/50\n",
            "923/923 [==============================] - 0s 517us/step - loss: 0.9021 - acc: 0.6262 - val_loss: 0.9181 - val_acc: 0.6126\n",
            "\n",
            "Epoch 00009: val_loss improved from 0.92268 to 0.91813, saving model to weights.hdf5\n",
            "Epoch 10/50\n",
            "923/923 [==============================] - 0s 541us/step - loss: 0.8869 - acc: 0.6284 - val_loss: 0.9173 - val_acc: 0.6136\n",
            "\n",
            "Epoch 00010: val_loss improved from 0.91813 to 0.91731, saving model to weights.hdf5\n",
            "Epoch 11/50\n",
            "923/923 [==============================] - 0s 533us/step - loss: 0.8932 - acc: 0.6284 - val_loss: 0.9015 - val_acc: 0.6136\n",
            "\n",
            "Epoch 00011: val_loss improved from 0.91731 to 0.90150, saving model to weights.hdf5\n",
            "Epoch 12/50\n",
            "923/923 [==============================] - 1s 551us/step - loss: 0.8676 - acc: 0.6295 - val_loss: 0.8908 - val_acc: 0.6147\n",
            "\n",
            "Epoch 00012: val_loss improved from 0.90150 to 0.89079, saving model to weights.hdf5\n",
            "Epoch 13/50\n",
            "923/923 [==============================] - 0s 533us/step - loss: 0.8547 - acc: 0.6327 - val_loss: 0.9176 - val_acc: 0.6136\n",
            "\n",
            "Epoch 00013: val_loss did not improve from 0.89079\n",
            "Epoch 14/50\n",
            "923/923 [==============================] - 1s 564us/step - loss: 0.8479 - acc: 0.6316 - val_loss: 0.8897 - val_acc: 0.6158\n",
            "\n",
            "Epoch 00014: val_loss improved from 0.89079 to 0.88967, saving model to weights.hdf5\n",
            "Epoch 15/50\n",
            "923/923 [==============================] - 1s 556us/step - loss: 0.8349 - acc: 0.6479 - val_loss: 0.8749 - val_acc: 0.6180\n",
            "\n",
            "Epoch 00015: val_loss improved from 0.88967 to 0.87491, saving model to weights.hdf5\n",
            "Epoch 16/50\n",
            "800/923 [=========================>....] - ETA: 0s - loss: 0.8242 - acc: 0.6525"
          ],
          "name": "stdout"
        },
        {
          "output_type": "stream",
          "text": [
            "\b\b\b\b\b\b\b\b\b\b\b\b\b\b\b\b\b\b\b\b\b\b\b\b\b\b\b\b\b\b\b\b\b\b\b\b\b\b\b\b\b\b\b\b\b\b\b\b\b\b\b\b\b\b\b\b\b\b\b\b\b\b\b\b\b\b\b\b\b\b\b\b\b\b\b\b\b\b\b\r923/923 [==============================] - 1s 552us/step - loss: 0.8398 - acc: 0.6392 - val_loss: 0.8723 - val_acc: 0.6234\r\n",
            "\r\n",
            "Epoch 00016: val_loss improved from 0.87491 to 0.87228, saving model to weights.hdf5\r\n",
            "Epoch 17/50\n",
            "923/923 [==============================] - 1s 546us/step - loss: 0.8101 - acc: 0.6501 - val_loss: 0.8614 - val_acc: 0.6212\n",
            "\n",
            "Epoch 00017: val_loss improved from 0.87228 to 0.86145, saving model to weights.hdf5\n",
            "Epoch 18/50\n",
            "923/923 [==============================] - 1s 546us/step - loss: 0.7973 - acc: 0.6533 - val_loss: 0.8572 - val_acc: 0.6255\n",
            "\n",
            "Epoch 00018: val_loss improved from 0.86145 to 0.85720, saving model to weights.hdf5\n",
            "Epoch 19/50\n",
            "923/923 [==============================] - 1s 582us/step - loss: 0.7909 - acc: 0.6566 - val_loss: 0.8628 - val_acc: 0.6342\n",
            "\n",
            "Epoch 00019: val_loss did not improve from 0.85720\n",
            "Epoch 20/50\n",
            "923/923 [==============================] - 1s 563us/step - loss: 0.7787 - acc: 0.6587 - val_loss: 0.8446 - val_acc: 0.6461\n",
            "\n",
            "Epoch 00020: val_loss improved from 0.85720 to 0.84455, saving model to weights.hdf5\n",
            "Epoch 21/50\n",
            "923/923 [==============================] - 1s 555us/step - loss: 0.7631 - acc: 0.6663 - val_loss: 0.8469 - val_acc: 0.6407\n",
            "\n",
            "Epoch 00021: val_loss did not improve from 0.84455\n",
            "Epoch 22/50\n",
            "923/923 [==============================] - 1s 548us/step - loss: 0.7494 - acc: 0.6793 - val_loss: 0.8226 - val_acc: 0.6418\n",
            "\n",
            "Epoch 00022: val_loss improved from 0.84455 to 0.82256, saving model to weights.hdf5\n",
            "Epoch 23/50\n",
            "923/923 [==============================] - 1s 561us/step - loss: 0.7352 - acc: 0.6815 - val_loss: 0.8149 - val_acc: 0.6472\n",
            "\n",
            "Epoch 00023: val_loss improved from 0.82256 to 0.81488, saving model to weights.hdf5\n",
            "Epoch 24/50\n",
            "923/923 [==============================] - 1s 564us/step - loss: 0.7181 - acc: 0.6869 - val_loss: 0.8198 - val_acc: 0.6634\n",
            "\n",
            "Epoch 00024: val_loss did not improve from 0.81488\n",
            "Epoch 25/50\n",
            "923/923 [==============================] - 1s 549us/step - loss: 0.7058 - acc: 0.7042 - val_loss: 0.8231 - val_acc: 0.6450\n",
            "\n",
            "Epoch 00025: val_loss did not improve from 0.81488\n",
            "Epoch 26/50\n",
            "800/923 [=========================>....] - ETA: 0s - loss: 0.6855 - acc: 0.7100"
          ],
          "name": "stdout"
        },
        {
          "output_type": "stream",
          "text": [
            "\b\b\b\b\b\b\b\b\b\b\b\b\b\b\b\b\b\b\b\b\b\b\b\b\b\b\b\b\b\b\b\b\b\b\b\b\b\b\b\b\b\b\b\b\b\b\b\b\b\b\b\b\b\b\b\b\b\b\b\b\b\b\b\b\b\b\b\b\b\b\b\b\b\b\b\b\b\b\b\r923/923 [==============================] - 1s 546us/step - loss: 0.6838 - acc: 0.7096 - val_loss: 0.8197 - val_acc: 0.6688\r\n",
            "\r\n",
            "Epoch 00026: val_loss did not improve from 0.81488\r\n",
            "Epoch 27/50\n",
            "923/923 [==============================] - 1s 547us/step - loss: 0.6842 - acc: 0.7031 - val_loss: 0.8212 - val_acc: 0.6418\n",
            "\n",
            "Epoch 00027: val_loss did not improve from 0.81488\n",
            "Epoch 28/50\n",
            "923/923 [==============================] - 1s 566us/step - loss: 0.6671 - acc: 0.7075 - val_loss: 0.7909 - val_acc: 0.6677\n",
            "\n",
            "Epoch 00028: val_loss improved from 0.81488 to 0.79088, saving model to weights.hdf5\n",
            "Epoch 29/50\n",
            "923/923 [==============================] - 1s 558us/step - loss: 0.6463 - acc: 0.7237 - val_loss: 0.7737 - val_acc: 0.6991\n",
            "\n",
            "Epoch 00029: val_loss improved from 0.79088 to 0.77368, saving model to weights.hdf5\n",
            "Epoch 30/50\n",
            "923/923 [==============================] - 1s 553us/step - loss: 0.6184 - acc: 0.7443 - val_loss: 0.7691 - val_acc: 0.6916\n",
            "\n",
            "Epoch 00030: val_loss improved from 0.77368 to 0.76912, saving model to weights.hdf5\n",
            "Epoch 31/50\n",
            "923/923 [==============================] - 0s 539us/step - loss: 0.6248 - acc: 0.7476 - val_loss: 0.7941 - val_acc: 0.6861\n",
            "\n",
            "Epoch 00031: val_loss did not improve from 0.76912\n",
            "Epoch 32/50\n",
            "923/923 [==============================] - 1s 558us/step - loss: 0.6001 - acc: 0.7497 - val_loss: 0.7593 - val_acc: 0.7056\n",
            "\n",
            "Epoch 00032: val_loss improved from 0.76912 to 0.75925, saving model to weights.hdf5\n",
            "Epoch 33/50\n",
            "923/923 [==============================] - 1s 567us/step - loss: 0.5920 - acc: 0.7551 - val_loss: 0.7698 - val_acc: 0.7262\n",
            "\n",
            "Epoch 00033: val_loss did not improve from 0.75925\n",
            "Epoch 34/50\n",
            "923/923 [==============================] - 1s 582us/step - loss: 0.5779 - acc: 0.7573 - val_loss: 0.7297 - val_acc: 0.7338\n",
            "\n",
            "Epoch 00034: val_loss improved from 0.75925 to 0.72975, saving model to weights.hdf5\n",
            "Epoch 35/50\n",
            "923/923 [==============================] - 1s 557us/step - loss: 0.5658 - acc: 0.7736 - val_loss: 0.7216 - val_acc: 0.7273\n",
            "\n",
            "Epoch 00035: val_loss improved from 0.72975 to 0.72164, saving model to weights.hdf5\n",
            "Epoch 36/50\n",
            "896/923 [============================>.] - ETA: 0s - loss: 0.5142 - acc: 0.7958"
          ],
          "name": "stdout"
        },
        {
          "output_type": "stream",
          "text": [
            "\b\b\b\b\b\b\b\b\b\b\b\b\b\b\b\b\b\b\b\b\b\b\b\b\b\b\b\b\b\b\b\b\b\b\b\b\b\b\b\b\b\b\b\b\b\b\b\b\b\b\b\b\b\b\b\b\b\b\b\b\b\b\b\b\b\b\b\b\b\b\b\b\b\b\b\b\b\b\b\r923/923 [==============================] - 1s 582us/step - loss: 0.5161 - acc: 0.7941 - val_loss: 0.7128 - val_acc: 0.7316\r\n",
            "\r\n",
            "Epoch 00036: val_loss improved from 0.72164 to 0.71278, saving model to weights.hdf5\r\n",
            "Epoch 37/50\n",
            "923/923 [==============================] - 1s 551us/step - loss: 0.5222 - acc: 0.7985 - val_loss: 0.7154 - val_acc: 0.7468\n",
            "\n",
            "Epoch 00037: val_loss did not improve from 0.71278\n",
            "Epoch 38/50\n",
            "923/923 [==============================] - 1s 542us/step - loss: 0.5011 - acc: 0.8093 - val_loss: 0.7326 - val_acc: 0.7262\n",
            "\n",
            "Epoch 00038: val_loss did not improve from 0.71278\n",
            "Epoch 39/50\n",
            "923/923 [==============================] - 1s 543us/step - loss: 0.4717 - acc: 0.8104 - val_loss: 0.6737 - val_acc: 0.7662\n",
            "\n",
            "Epoch 00039: val_loss improved from 0.71278 to 0.67366, saving model to weights.hdf5\n",
            "Epoch 40/50\n",
            "923/923 [==============================] - 0s 535us/step - loss: 0.4448 - acc: 0.8342 - val_loss: 0.6798 - val_acc: 0.7597\n",
            "\n",
            "Epoch 00040: val_loss did not improve from 0.67366\n",
            "Epoch 41/50\n",
            "923/923 [==============================] - 1s 561us/step - loss: 0.4323 - acc: 0.8299 - val_loss: 0.7272 - val_acc: 0.7359\n",
            "\n",
            "Epoch 00041: val_loss did not improve from 0.67366\n",
            "Epoch 42/50\n",
            "923/923 [==============================] - 1s 550us/step - loss: 0.4087 - acc: 0.8494 - val_loss: 0.6663 - val_acc: 0.7760\n",
            "\n",
            "Epoch 00042: val_loss improved from 0.67366 to 0.66627, saving model to weights.hdf5\n",
            "Epoch 43/50\n",
            "923/923 [==============================] - 1s 584us/step - loss: 0.3791 - acc: 0.8700 - val_loss: 0.6713 - val_acc: 0.7641\n",
            "\n",
            "Epoch 00043: val_loss did not improve from 0.66627\n",
            "Epoch 44/50\n",
            "923/923 [==============================] - 1s 555us/step - loss: 0.3649 - acc: 0.8613 - val_loss: 0.6615 - val_acc: 0.7771\n",
            "\n",
            "Epoch 00044: val_loss improved from 0.66627 to 0.66154, saving model to weights.hdf5\n",
            "Epoch 45/50\n",
            "923/923 [==============================] - 1s 557us/step - loss: 0.3491 - acc: 0.8819 - val_loss: 0.7024 - val_acc: 0.7738\n",
            "\n",
            "Epoch 00045: val_loss did not improve from 0.66154\n",
            "Epoch 46/50\n",
            "923/923 [==============================] - 1s 553us/step - loss: 0.3369 - acc: 0.8776 - val_loss: 0.6739 - val_acc: 0.7792\n",
            "\n",
            "Epoch 00046: val_loss did not improve from 0.66154\n",
            "Epoch 47/50\n",
            " 32/923 [>.............................] - ETA: 0s - loss: 0.3004 - acc: 0.9062"
          ],
          "name": "stdout"
        },
        {
          "output_type": "stream",
          "text": [
            "923/923 [==============================] - 0s 541us/step - loss: 0.3037 - acc: 0.8884 - val_loss: 0.6721 - val_acc: 0.8074\n",
            "\n",
            "Epoch 00047: val_loss did not improve from 0.66154\n",
            "Epoch 48/50\n",
            "923/923 [==============================] - 1s 574us/step - loss: 0.3149 - acc: 0.8873 - val_loss: 0.6575 - val_acc: 0.8009\n",
            "\n",
            "Epoch 00048: val_loss improved from 0.66154 to 0.65753, saving model to weights.hdf5\n",
            "Epoch 49/50\n",
            "923/923 [==============================] - 0s 541us/step - loss: 0.2900 - acc: 0.8938 - val_loss: 0.6540 - val_acc: 0.8084\n",
            "\n",
            "Epoch 00049: val_loss improved from 0.65753 to 0.65401, saving model to weights.hdf5\n",
            "Epoch 50/50\n",
            "923/923 [==============================] - 1s 563us/step - loss: 0.2728 - acc: 0.9079 - val_loss: 0.6596 - val_acc: 0.8009\n",
            "\n",
            "Epoch 00050: val_loss did not improve from 0.65401\n",
            "Training Completed\n",
            "Testing with train data:\n",
            "923/923 [==============================] - 0s 140us/step\n",
            "Testing with test data:\n",
            "924/924 [==============================] - 0s 140us/step\n",
            "Time Took: 0:00:29.412592\n",
            "Test Loss: 0.659559548417\n",
            "Test Accuracy: 0.800865800608\n",
            "Train Loss: 0.157865381286\n",
            "Train Accuracy: 0.965330444204\n"
          ],
          "name": "stdout"
        }
      ]
    },
    {
      "metadata": {
        "id": "LGImSrDk_gzA",
        "colab_type": "code",
        "colab": {}
      },
      "cell_type": "code",
      "source": [
        "from google.colab import files\n",
        "\n",
        "with open('example.txt', 'w') as f:\n",
        "  f.write('some content')\n",
        "\n",
        "files.download('example.txt')"
      ],
      "execution_count": 0,
      "outputs": []
    }
  ]
}